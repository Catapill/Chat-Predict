{
 "cells": [
  {
   "cell_type": "code",
   "execution_count": 7,
   "id": "401ccd82-4992-45f7-bab6-034153d88a23",
   "metadata": {},
   "outputs": [],
   "source": [
    "import pandas as pd\n",
    "from keras import Model\n",
    "from sklearn.model_selection import train_test_split\n",
    "from sklearn import metrics\n",
    "import matplotlib.pyplot as plt\n",
    "\n",
    "import numpy as np\n",
    "import pandas as pd\n",
    "import plotly.graph_objects as go\n",
    "import plotly.express as px\n",
    "\n",
    "import statistics"
   ]
  },
  {
   "cell_type": "code",
   "execution_count": 13,
   "id": "f7bdbf34-2c73-481e-9ab1-ade2be9ca342",
   "metadata": {},
   "outputs": [],
   "source": [
    "df = pd.read_csv(r\"D:\\Projects\\Chat-Predict\\data\\messages.csv\")  "
   ]
  },
  {
   "cell_type": "code",
   "execution_count": 14,
   "id": "115edd2a-bfd4-425a-b7ab-9f19c90f7aea",
   "metadata": {},
   "outputs": [
    {
     "name": "stdout",
     "output_type": "stream",
     "text": [
      "        28/06/2019   01:26     Adam  \\\n",
      "0       29/06/2019   14:41     Adam   \n",
      "1       29/06/2019   14:44    Sammy   \n",
      "2       29/06/2019   14:47     Adam   \n",
      "3       29/06/2019   14:48     Adam   \n",
      "4       29/06/2019   15:06    Sammy   \n",
      "...            ...      ...     ...   \n",
      "133663  13/06/2021   11:49    Sammy   \n",
      "133664  13/06/2021   11:50     Adam   \n",
      "133665  13/06/2021   11:50     Adam   \n",
      "133666  13/06/2021   12:46    Sammy   \n",
      "133667  13/06/2021   12:46     Adam   \n",
      "\n",
      "                                       <Media omitted>  \n",
      "0                                I miss you already :3  \n",
      "1                                  I fucking missed it  \n",
      "2                                              Oh baby  \n",
      "3                                      You wanna call?  \n",
      "4                                      <Media omitted>  \n",
      "...                                                ...  \n",
      "133663                                            Nuuu  \n",
      "133664                                      Hehehe yus  \n",
      "133665   Oki baby gimme 10 mins and I'll go on discord  \n",
      "133666                                 <Media omitted>  \n",
      "133667                                    So pretty :3  \n",
      "\n",
      "[133668 rows x 4 columns]\n"
     ]
    }
   ],
   "source": [
    "print(df)"
   ]
  },
  {
   "cell_type": "code",
   "execution_count": null,
   "id": "3055b82f-dbac-4714-bed3-40e14fcee1cf",
   "metadata": {},
   "outputs": [],
   "source": []
  }
 ],
 "metadata": {
  "kernelspec": {
   "display_name": "Python 3",
   "language": "python",
   "name": "python3"
  },
  "language_info": {
   "codemirror_mode": {
    "name": "ipython",
    "version": 3
   },
   "file_extension": ".py",
   "mimetype": "text/x-python",
   "name": "python",
   "nbconvert_exporter": "python",
   "pygments_lexer": "ipython3",
   "version": "3.8.8"
  }
 },
 "nbformat": 4,
 "nbformat_minor": 5
}
